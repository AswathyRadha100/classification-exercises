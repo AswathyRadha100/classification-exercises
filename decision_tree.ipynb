{
 "cells": [
  {
   "cell_type": "markdown",
   "id": "ce3f6a4e",
   "metadata": {},
   "source": [
    "<div style=\"background-color: lightblue; padding: 40px; font-size: 40px;\">\n",
    "             Decision Tree\n",
    "</div>"
   ]
  },
  {
   "cell_type": "markdown",
   "id": "33da50c5",
   "metadata": {},
   "source": [
    "- A decision tree is a supervised machine learning algorithm used for both classification and regression tasks. It's a graphical representation of a decision-making process that involves selecting a course of action based on certain conditions or criteria. A decision tree helps make decisions by recursively partitioning the data into subsets based on input features, and at each step, it selects the feature that provides the best split in terms of reducing uncertainty or impurity in the target variable.\n"
   ]
  },
  {
   "cell_type": "markdown",
   "id": "165b2865",
   "metadata": {},
   "source": [
    "How it works?\n",
    " - Tree Structure: The decision tree starts with a single node, often called the \"root\" node. Each subsequent node represents a decision or a test on an attribute/feature. The edges connecting the nodes represent the possible outcomes of the test.\n",
    "\n",
    " - Feature Selection: At each node, the algorithm selects the feature that provides the best separation of data based on certain criteria. The most common criteria include Gini impurity (for classification) or mean squared error (for regression).\n",
    " \n",
    " - Splitting: The selected feature is used to split the data into subsets based on its possible values. Each subset is directed to a child node representing a specific value of the feature.\n",
    "\n",
    " - Recursive Process: The splitting process is then repeated for each child node, creating a tree-like structure. The algorithm continues to split nodes until a stopping criterion is met. This criterion could involve reaching a maximum depth, having a minimum number of samples per leaf, or other measures to prevent overfitting.\n",
    "\n",
    " - Leaf Nodes: When a stopping criterion is met, the final nodes of the tree are called leaf nodes. In a classification task, each leaf node represents a predicted class label, while in a regression task, it represents a predicted numerical value.\n",
    "\n",
    " - Prediction: To make predictions for new data points, you start at the root node and follow the path through the tree based on the values of the features. Eventually, you reach a leaf node that provides the predicted output for the given input.\n",
    "\n",
    " - Decision trees have several advantages, including their interpretability, ease of visualization, and ability to handle both categorical and numerical features. However, they can be prone to overfitting, especially if they are allowed to grow deep and complex. Techniques like pruning (removing certain branches) and ensemble methods like Random Forests and Gradient Boosting are often used to mitigate these issues and improve the overall performance of decision trees in machine learning tasks.\n"
   ]
  },
  {
   "cell_type": "code",
   "execution_count": 1,
   "id": "fa054673",
   "metadata": {},
   "outputs": [],
   "source": [
    "#Tabular data imports:\n",
    "import pandas as pd\n",
    "import numpy as np\n",
    "\n",
    "#Visualization imports:\n",
    "import matplotlib.pyplot as plt\n",
    "\n",
    "\n",
    "#Imports we need for assessing the performance of our model:\n",
    "from sklearn.tree import DecisionTreeClassifier, plot_tree\n",
    "from sklearn.model_selection import train_test_split\n",
    "from sklearn.metrics import classification_report, accuracy_score, precision_score, recall_score, confusion_matrix, ConfusionMatrixDisplay\n",
    "\n",
    "\n",
    "#Importing the functions for fetching the data:\n",
    "from acquire import new_titanic_data, new_telco_data\n",
    "    \n",
    "\n",
    "#Importing functions for prepping the data that's fetched:\n",
    "from prepare import prep_titanic_for_dt, prep_telco, split_function\n"
   ]
  },
  {
   "cell_type": "markdown",
   "id": "5f2358b4",
   "metadata": {},
   "source": [
    "## Part I   Using Titanic data"
   ]
  },
  {
   "cell_type": "markdown",
   "id": "a91e84dc",
   "metadata": {},
   "source": [
    "#### In the scope of a project pipeline: Acquire"
   ]
  },
  {
   "cell_type": "code",
   "execution_count": 2,
   "id": "74eb5803",
   "metadata": {},
   "outputs": [
    {
     "data": {
      "text/html": [
       "<div>\n",
       "<style scoped>\n",
       "    .dataframe tbody tr th:only-of-type {\n",
       "        vertical-align: middle;\n",
       "    }\n",
       "\n",
       "    .dataframe tbody tr th {\n",
       "        vertical-align: top;\n",
       "    }\n",
       "\n",
       "    .dataframe thead th {\n",
       "        text-align: right;\n",
       "    }\n",
       "</style>\n",
       "<table border=\"1\" class=\"dataframe\">\n",
       "  <thead>\n",
       "    <tr style=\"text-align: right;\">\n",
       "      <th></th>\n",
       "      <th>passenger_id</th>\n",
       "      <th>survived</th>\n",
       "      <th>pclass</th>\n",
       "      <th>sex</th>\n",
       "      <th>age</th>\n",
       "      <th>sibsp</th>\n",
       "      <th>parch</th>\n",
       "      <th>fare</th>\n",
       "      <th>embarked</th>\n",
       "      <th>class</th>\n",
       "      <th>deck</th>\n",
       "      <th>embark_town</th>\n",
       "      <th>alone</th>\n",
       "    </tr>\n",
       "  </thead>\n",
       "  <tbody>\n",
       "    <tr>\n",
       "      <th>0</th>\n",
       "      <td>0</td>\n",
       "      <td>0</td>\n",
       "      <td>3</td>\n",
       "      <td>male</td>\n",
       "      <td>22.0</td>\n",
       "      <td>1</td>\n",
       "      <td>0</td>\n",
       "      <td>7.2500</td>\n",
       "      <td>S</td>\n",
       "      <td>Third</td>\n",
       "      <td>None</td>\n",
       "      <td>Southampton</td>\n",
       "      <td>0</td>\n",
       "    </tr>\n",
       "    <tr>\n",
       "      <th>1</th>\n",
       "      <td>1</td>\n",
       "      <td>1</td>\n",
       "      <td>1</td>\n",
       "      <td>female</td>\n",
       "      <td>38.0</td>\n",
       "      <td>1</td>\n",
       "      <td>0</td>\n",
       "      <td>71.2833</td>\n",
       "      <td>C</td>\n",
       "      <td>First</td>\n",
       "      <td>C</td>\n",
       "      <td>Cherbourg</td>\n",
       "      <td>0</td>\n",
       "    </tr>\n",
       "    <tr>\n",
       "      <th>2</th>\n",
       "      <td>2</td>\n",
       "      <td>1</td>\n",
       "      <td>3</td>\n",
       "      <td>female</td>\n",
       "      <td>26.0</td>\n",
       "      <td>0</td>\n",
       "      <td>0</td>\n",
       "      <td>7.9250</td>\n",
       "      <td>S</td>\n",
       "      <td>Third</td>\n",
       "      <td>None</td>\n",
       "      <td>Southampton</td>\n",
       "      <td>1</td>\n",
       "    </tr>\n",
       "    <tr>\n",
       "      <th>3</th>\n",
       "      <td>3</td>\n",
       "      <td>1</td>\n",
       "      <td>1</td>\n",
       "      <td>female</td>\n",
       "      <td>35.0</td>\n",
       "      <td>1</td>\n",
       "      <td>0</td>\n",
       "      <td>53.1000</td>\n",
       "      <td>S</td>\n",
       "      <td>First</td>\n",
       "      <td>C</td>\n",
       "      <td>Southampton</td>\n",
       "      <td>0</td>\n",
       "    </tr>\n",
       "    <tr>\n",
       "      <th>4</th>\n",
       "      <td>4</td>\n",
       "      <td>0</td>\n",
       "      <td>3</td>\n",
       "      <td>male</td>\n",
       "      <td>35.0</td>\n",
       "      <td>0</td>\n",
       "      <td>0</td>\n",
       "      <td>8.0500</td>\n",
       "      <td>S</td>\n",
       "      <td>Third</td>\n",
       "      <td>None</td>\n",
       "      <td>Southampton</td>\n",
       "      <td>1</td>\n",
       "    </tr>\n",
       "    <tr>\n",
       "      <th>...</th>\n",
       "      <td>...</td>\n",
       "      <td>...</td>\n",
       "      <td>...</td>\n",
       "      <td>...</td>\n",
       "      <td>...</td>\n",
       "      <td>...</td>\n",
       "      <td>...</td>\n",
       "      <td>...</td>\n",
       "      <td>...</td>\n",
       "      <td>...</td>\n",
       "      <td>...</td>\n",
       "      <td>...</td>\n",
       "      <td>...</td>\n",
       "    </tr>\n",
       "    <tr>\n",
       "      <th>886</th>\n",
       "      <td>886</td>\n",
       "      <td>0</td>\n",
       "      <td>2</td>\n",
       "      <td>male</td>\n",
       "      <td>27.0</td>\n",
       "      <td>0</td>\n",
       "      <td>0</td>\n",
       "      <td>13.0000</td>\n",
       "      <td>S</td>\n",
       "      <td>Second</td>\n",
       "      <td>None</td>\n",
       "      <td>Southampton</td>\n",
       "      <td>1</td>\n",
       "    </tr>\n",
       "    <tr>\n",
       "      <th>887</th>\n",
       "      <td>887</td>\n",
       "      <td>1</td>\n",
       "      <td>1</td>\n",
       "      <td>female</td>\n",
       "      <td>19.0</td>\n",
       "      <td>0</td>\n",
       "      <td>0</td>\n",
       "      <td>30.0000</td>\n",
       "      <td>S</td>\n",
       "      <td>First</td>\n",
       "      <td>B</td>\n",
       "      <td>Southampton</td>\n",
       "      <td>1</td>\n",
       "    </tr>\n",
       "    <tr>\n",
       "      <th>888</th>\n",
       "      <td>888</td>\n",
       "      <td>0</td>\n",
       "      <td>3</td>\n",
       "      <td>female</td>\n",
       "      <td>NaN</td>\n",
       "      <td>1</td>\n",
       "      <td>2</td>\n",
       "      <td>23.4500</td>\n",
       "      <td>S</td>\n",
       "      <td>Third</td>\n",
       "      <td>None</td>\n",
       "      <td>Southampton</td>\n",
       "      <td>0</td>\n",
       "    </tr>\n",
       "    <tr>\n",
       "      <th>889</th>\n",
       "      <td>889</td>\n",
       "      <td>1</td>\n",
       "      <td>1</td>\n",
       "      <td>male</td>\n",
       "      <td>26.0</td>\n",
       "      <td>0</td>\n",
       "      <td>0</td>\n",
       "      <td>30.0000</td>\n",
       "      <td>C</td>\n",
       "      <td>First</td>\n",
       "      <td>C</td>\n",
       "      <td>Cherbourg</td>\n",
       "      <td>1</td>\n",
       "    </tr>\n",
       "    <tr>\n",
       "      <th>890</th>\n",
       "      <td>890</td>\n",
       "      <td>0</td>\n",
       "      <td>3</td>\n",
       "      <td>male</td>\n",
       "      <td>32.0</td>\n",
       "      <td>0</td>\n",
       "      <td>0</td>\n",
       "      <td>7.7500</td>\n",
       "      <td>Q</td>\n",
       "      <td>Third</td>\n",
       "      <td>None</td>\n",
       "      <td>Queenstown</td>\n",
       "      <td>1</td>\n",
       "    </tr>\n",
       "  </tbody>\n",
       "</table>\n",
       "<p>891 rows × 13 columns</p>\n",
       "</div>"
      ],
      "text/plain": [
       "     passenger_id  survived  pclass     sex   age  sibsp  parch     fare  \\\n",
       "0               0         0       3    male  22.0      1      0   7.2500   \n",
       "1               1         1       1  female  38.0      1      0  71.2833   \n",
       "2               2         1       3  female  26.0      0      0   7.9250   \n",
       "3               3         1       1  female  35.0      1      0  53.1000   \n",
       "4               4         0       3    male  35.0      0      0   8.0500   \n",
       "..            ...       ...     ...     ...   ...    ...    ...      ...   \n",
       "886           886         0       2    male  27.0      0      0  13.0000   \n",
       "887           887         1       1  female  19.0      0      0  30.0000   \n",
       "888           888         0       3  female   NaN      1      2  23.4500   \n",
       "889           889         1       1    male  26.0      0      0  30.0000   \n",
       "890           890         0       3    male  32.0      0      0   7.7500   \n",
       "\n",
       "    embarked   class  deck  embark_town  alone  \n",
       "0          S   Third  None  Southampton      0  \n",
       "1          C   First     C    Cherbourg      0  \n",
       "2          S   Third  None  Southampton      1  \n",
       "3          S   First     C  Southampton      0  \n",
       "4          S   Third  None  Southampton      1  \n",
       "..       ...     ...   ...          ...    ...  \n",
       "886        S  Second  None  Southampton      1  \n",
       "887        S   First     B  Southampton      1  \n",
       "888        S   Third  None  Southampton      0  \n",
       "889        C   First     C    Cherbourg      1  \n",
       "890        Q   Third  None   Queenstown      1  \n",
       "\n",
       "[891 rows x 13 columns]"
      ]
     },
     "execution_count": 2,
     "metadata": {},
     "output_type": "execute_result"
    }
   ],
   "source": [
    "# Acquire data\n",
    "df_titanic = new_titanic_data()\n",
    "df_titanic"
   ]
  },
  {
   "cell_type": "markdown",
   "id": "23084e06",
   "metadata": {},
   "source": [
    "#### In the scope of a project pipeline: Prepare"
   ]
  },
  {
   "cell_type": "code",
   "execution_count": 3,
   "id": "bdb2ac51",
   "metadata": {},
   "outputs": [
    {
     "data": {
      "text/html": [
       "<div>\n",
       "<style scoped>\n",
       "    .dataframe tbody tr th:only-of-type {\n",
       "        vertical-align: middle;\n",
       "    }\n",
       "\n",
       "    .dataframe tbody tr th {\n",
       "        vertical-align: top;\n",
       "    }\n",
       "\n",
       "    .dataframe thead th {\n",
       "        text-align: right;\n",
       "    }\n",
       "</style>\n",
       "<table border=\"1\" class=\"dataframe\">\n",
       "  <thead>\n",
       "    <tr style=\"text-align: right;\">\n",
       "      <th></th>\n",
       "      <th>survived</th>\n",
       "      <th>pclass</th>\n",
       "      <th>age</th>\n",
       "      <th>sibsp</th>\n",
       "      <th>parch</th>\n",
       "      <th>fare</th>\n",
       "      <th>alone</th>\n",
       "      <th>Cherbourg</th>\n",
       "      <th>Queenstown</th>\n",
       "      <th>Southampton</th>\n",
       "      <th>female</th>\n",
       "      <th>male</th>\n",
       "    </tr>\n",
       "  </thead>\n",
       "  <tbody>\n",
       "    <tr>\n",
       "      <th>262</th>\n",
       "      <td>0</td>\n",
       "      <td>1</td>\n",
       "      <td>52</td>\n",
       "      <td>1</td>\n",
       "      <td>1</td>\n",
       "      <td>79.6500</td>\n",
       "      <td>0</td>\n",
       "      <td>0</td>\n",
       "      <td>0</td>\n",
       "      <td>1</td>\n",
       "      <td>0</td>\n",
       "      <td>1</td>\n",
       "    </tr>\n",
       "    <tr>\n",
       "      <th>123</th>\n",
       "      <td>1</td>\n",
       "      <td>2</td>\n",
       "      <td>32</td>\n",
       "      <td>0</td>\n",
       "      <td>0</td>\n",
       "      <td>13.0000</td>\n",
       "      <td>1</td>\n",
       "      <td>0</td>\n",
       "      <td>0</td>\n",
       "      <td>1</td>\n",
       "      <td>1</td>\n",
       "      <td>0</td>\n",
       "    </tr>\n",
       "    <tr>\n",
       "      <th>758</th>\n",
       "      <td>0</td>\n",
       "      <td>3</td>\n",
       "      <td>34</td>\n",
       "      <td>0</td>\n",
       "      <td>0</td>\n",
       "      <td>8.0500</td>\n",
       "      <td>1</td>\n",
       "      <td>0</td>\n",
       "      <td>0</td>\n",
       "      <td>1</td>\n",
       "      <td>0</td>\n",
       "      <td>1</td>\n",
       "    </tr>\n",
       "    <tr>\n",
       "      <th>33</th>\n",
       "      <td>0</td>\n",
       "      <td>2</td>\n",
       "      <td>66</td>\n",
       "      <td>0</td>\n",
       "      <td>0</td>\n",
       "      <td>10.5000</td>\n",
       "      <td>1</td>\n",
       "      <td>0</td>\n",
       "      <td>0</td>\n",
       "      <td>1</td>\n",
       "      <td>0</td>\n",
       "      <td>1</td>\n",
       "    </tr>\n",
       "    <tr>\n",
       "      <th>208</th>\n",
       "      <td>1</td>\n",
       "      <td>3</td>\n",
       "      <td>16</td>\n",
       "      <td>0</td>\n",
       "      <td>0</td>\n",
       "      <td>7.7500</td>\n",
       "      <td>1</td>\n",
       "      <td>0</td>\n",
       "      <td>1</td>\n",
       "      <td>0</td>\n",
       "      <td>1</td>\n",
       "      <td>0</td>\n",
       "    </tr>\n",
       "    <tr>\n",
       "      <th>523</th>\n",
       "      <td>1</td>\n",
       "      <td>1</td>\n",
       "      <td>44</td>\n",
       "      <td>0</td>\n",
       "      <td>1</td>\n",
       "      <td>57.9792</td>\n",
       "      <td>0</td>\n",
       "      <td>1</td>\n",
       "      <td>0</td>\n",
       "      <td>0</td>\n",
       "      <td>1</td>\n",
       "      <td>0</td>\n",
       "    </tr>\n",
       "    <tr>\n",
       "      <th>349</th>\n",
       "      <td>0</td>\n",
       "      <td>3</td>\n",
       "      <td>42</td>\n",
       "      <td>0</td>\n",
       "      <td>0</td>\n",
       "      <td>8.6625</td>\n",
       "      <td>1</td>\n",
       "      <td>0</td>\n",
       "      <td>0</td>\n",
       "      <td>1</td>\n",
       "      <td>0</td>\n",
       "      <td>1</td>\n",
       "    </tr>\n",
       "    <tr>\n",
       "      <th>203</th>\n",
       "      <td>0</td>\n",
       "      <td>3</td>\n",
       "      <td>45</td>\n",
       "      <td>0</td>\n",
       "      <td>0</td>\n",
       "      <td>7.2250</td>\n",
       "      <td>1</td>\n",
       "      <td>1</td>\n",
       "      <td>0</td>\n",
       "      <td>0</td>\n",
       "      <td>0</td>\n",
       "      <td>1</td>\n",
       "    </tr>\n",
       "    <tr>\n",
       "      <th>565</th>\n",
       "      <td>0</td>\n",
       "      <td>3</td>\n",
       "      <td>24</td>\n",
       "      <td>2</td>\n",
       "      <td>0</td>\n",
       "      <td>24.1500</td>\n",
       "      <td>0</td>\n",
       "      <td>0</td>\n",
       "      <td>0</td>\n",
       "      <td>1</td>\n",
       "      <td>0</td>\n",
       "      <td>1</td>\n",
       "    </tr>\n",
       "    <tr>\n",
       "      <th>129</th>\n",
       "      <td>0</td>\n",
       "      <td>3</td>\n",
       "      <td>45</td>\n",
       "      <td>0</td>\n",
       "      <td>0</td>\n",
       "      <td>6.9750</td>\n",
       "      <td>1</td>\n",
       "      <td>0</td>\n",
       "      <td>0</td>\n",
       "      <td>1</td>\n",
       "      <td>0</td>\n",
       "      <td>1</td>\n",
       "    </tr>\n",
       "    <tr>\n",
       "      <th>650</th>\n",
       "      <td>0</td>\n",
       "      <td>3</td>\n",
       "      <td>0</td>\n",
       "      <td>0</td>\n",
       "      <td>0</td>\n",
       "      <td>7.8958</td>\n",
       "      <td>1</td>\n",
       "      <td>0</td>\n",
       "      <td>0</td>\n",
       "      <td>1</td>\n",
       "      <td>0</td>\n",
       "      <td>1</td>\n",
       "    </tr>\n",
       "    <tr>\n",
       "      <th>302</th>\n",
       "      <td>0</td>\n",
       "      <td>3</td>\n",
       "      <td>19</td>\n",
       "      <td>0</td>\n",
       "      <td>0</td>\n",
       "      <td>0.0000</td>\n",
       "      <td>1</td>\n",
       "      <td>0</td>\n",
       "      <td>0</td>\n",
       "      <td>1</td>\n",
       "      <td>0</td>\n",
       "      <td>1</td>\n",
       "    </tr>\n",
       "    <tr>\n",
       "      <th>636</th>\n",
       "      <td>0</td>\n",
       "      <td>3</td>\n",
       "      <td>32</td>\n",
       "      <td>0</td>\n",
       "      <td>0</td>\n",
       "      <td>7.9250</td>\n",
       "      <td>1</td>\n",
       "      <td>0</td>\n",
       "      <td>0</td>\n",
       "      <td>1</td>\n",
       "      <td>0</td>\n",
       "      <td>1</td>\n",
       "    </tr>\n",
       "    <tr>\n",
       "      <th>264</th>\n",
       "      <td>0</td>\n",
       "      <td>3</td>\n",
       "      <td>0</td>\n",
       "      <td>0</td>\n",
       "      <td>0</td>\n",
       "      <td>7.7500</td>\n",
       "      <td>1</td>\n",
       "      <td>0</td>\n",
       "      <td>1</td>\n",
       "      <td>0</td>\n",
       "      <td>1</td>\n",
       "      <td>0</td>\n",
       "    </tr>\n",
       "    <tr>\n",
       "      <th>114</th>\n",
       "      <td>0</td>\n",
       "      <td>3</td>\n",
       "      <td>17</td>\n",
       "      <td>0</td>\n",
       "      <td>0</td>\n",
       "      <td>14.4583</td>\n",
       "      <td>1</td>\n",
       "      <td>1</td>\n",
       "      <td>0</td>\n",
       "      <td>0</td>\n",
       "      <td>1</td>\n",
       "      <td>0</td>\n",
       "    </tr>\n",
       "    <tr>\n",
       "      <th>732</th>\n",
       "      <td>0</td>\n",
       "      <td>2</td>\n",
       "      <td>0</td>\n",
       "      <td>0</td>\n",
       "      <td>0</td>\n",
       "      <td>0.0000</td>\n",
       "      <td>1</td>\n",
       "      <td>0</td>\n",
       "      <td>0</td>\n",
       "      <td>1</td>\n",
       "      <td>0</td>\n",
       "      <td>1</td>\n",
       "    </tr>\n",
       "    <tr>\n",
       "      <th>627</th>\n",
       "      <td>1</td>\n",
       "      <td>1</td>\n",
       "      <td>21</td>\n",
       "      <td>0</td>\n",
       "      <td>0</td>\n",
       "      <td>77.9583</td>\n",
       "      <td>1</td>\n",
       "      <td>0</td>\n",
       "      <td>0</td>\n",
       "      <td>1</td>\n",
       "      <td>1</td>\n",
       "      <td>0</td>\n",
       "    </tr>\n",
       "    <tr>\n",
       "      <th>424</th>\n",
       "      <td>0</td>\n",
       "      <td>3</td>\n",
       "      <td>18</td>\n",
       "      <td>1</td>\n",
       "      <td>1</td>\n",
       "      <td>20.2125</td>\n",
       "      <td>0</td>\n",
       "      <td>0</td>\n",
       "      <td>0</td>\n",
       "      <td>1</td>\n",
       "      <td>0</td>\n",
       "      <td>1</td>\n",
       "    </tr>\n",
       "    <tr>\n",
       "      <th>336</th>\n",
       "      <td>0</td>\n",
       "      <td>1</td>\n",
       "      <td>29</td>\n",
       "      <td>1</td>\n",
       "      <td>0</td>\n",
       "      <td>66.6000</td>\n",
       "      <td>0</td>\n",
       "      <td>0</td>\n",
       "      <td>0</td>\n",
       "      <td>1</td>\n",
       "      <td>0</td>\n",
       "      <td>1</td>\n",
       "    </tr>\n",
       "    <tr>\n",
       "      <th>714</th>\n",
       "      <td>0</td>\n",
       "      <td>2</td>\n",
       "      <td>52</td>\n",
       "      <td>0</td>\n",
       "      <td>0</td>\n",
       "      <td>13.0000</td>\n",
       "      <td>1</td>\n",
       "      <td>0</td>\n",
       "      <td>0</td>\n",
       "      <td>1</td>\n",
       "      <td>0</td>\n",
       "      <td>1</td>\n",
       "    </tr>\n",
       "  </tbody>\n",
       "</table>\n",
       "</div>"
      ],
      "text/plain": [
       "     survived  pclass  age  sibsp  parch     fare  alone  Cherbourg  \\\n",
       "262         0       1   52      1      1  79.6500      0          0   \n",
       "123         1       2   32      0      0  13.0000      1          0   \n",
       "758         0       3   34      0      0   8.0500      1          0   \n",
       "33          0       2   66      0      0  10.5000      1          0   \n",
       "208         1       3   16      0      0   7.7500      1          0   \n",
       "523         1       1   44      0      1  57.9792      0          1   \n",
       "349         0       3   42      0      0   8.6625      1          0   \n",
       "203         0       3   45      0      0   7.2250      1          1   \n",
       "565         0       3   24      2      0  24.1500      0          0   \n",
       "129         0       3   45      0      0   6.9750      1          0   \n",
       "650         0       3    0      0      0   7.8958      1          0   \n",
       "302         0       3   19      0      0   0.0000      1          0   \n",
       "636         0       3   32      0      0   7.9250      1          0   \n",
       "264         0       3    0      0      0   7.7500      1          0   \n",
       "114         0       3   17      0      0  14.4583      1          1   \n",
       "732         0       2    0      0      0   0.0000      1          0   \n",
       "627         1       1   21      0      0  77.9583      1          0   \n",
       "424         0       3   18      1      1  20.2125      0          0   \n",
       "336         0       1   29      1      0  66.6000      0          0   \n",
       "714         0       2   52      0      0  13.0000      1          0   \n",
       "\n",
       "     Queenstown  Southampton  female  male  \n",
       "262           0            1       0     1  \n",
       "123           0            1       1     0  \n",
       "758           0            1       0     1  \n",
       "33            0            1       0     1  \n",
       "208           1            0       1     0  \n",
       "523           0            0       1     0  \n",
       "349           0            1       0     1  \n",
       "203           0            0       0     1  \n",
       "565           0            1       0     1  \n",
       "129           0            1       0     1  \n",
       "650           0            1       0     1  \n",
       "302           0            1       0     1  \n",
       "636           0            1       0     1  \n",
       "264           1            0       1     0  \n",
       "114           0            0       1     0  \n",
       "732           0            1       0     1  \n",
       "627           0            1       1     0  \n",
       "424           0            1       0     1  \n",
       "336           0            1       0     1  \n",
       "714           0            1       0     1  "
      ]
     },
     "execution_count": 3,
     "metadata": {},
     "output_type": "execute_result"
    }
   ],
   "source": [
    "titanic = prep_titanic_for_dt(df_titanic)\n",
    "titanic.sample(20)"
   ]
  },
  {
   "cell_type": "code",
   "execution_count": 4,
   "id": "eea626f9",
   "metadata": {},
   "outputs": [
    {
     "name": "stdout",
     "output_type": "stream",
     "text": [
      "<class 'pandas.core.frame.DataFrame'>\n",
      "RangeIndex: 891 entries, 0 to 890\n",
      "Data columns (total 12 columns):\n",
      " #   Column       Non-Null Count  Dtype  \n",
      "---  ------       --------------  -----  \n",
      " 0   survived     891 non-null    int64  \n",
      " 1   pclass       891 non-null    int64  \n",
      " 2   age          891 non-null    int64  \n",
      " 3   sibsp        891 non-null    int64  \n",
      " 4   parch        891 non-null    int64  \n",
      " 5   fare         891 non-null    float64\n",
      " 6   alone        891 non-null    int64  \n",
      " 7   Cherbourg    891 non-null    int64  \n",
      " 8   Queenstown   891 non-null    int64  \n",
      " 9   Southampton  891 non-null    int64  \n",
      " 10  female       891 non-null    int64  \n",
      " 11  male         891 non-null    int64  \n",
      "dtypes: float64(1), int64(11)\n",
      "memory usage: 83.7 KB\n"
     ]
    }
   ],
   "source": [
    "titanic.info()"
   ]
  },
  {
   "cell_type": "markdown",
   "id": "001ca071",
   "metadata": {},
   "source": [
    "####  In the scope of a project pipeline: Exploratory Data Analysis"
   ]
  },
  {
   "cell_type": "code",
   "execution_count": 9,
   "id": "3177c64b",
   "metadata": {},
   "outputs": [],
   "source": [
    "# lets split our data into 3 - train,validate,test\n",
    "train, validate, test = split_function(titanic, 'survived')"
   ]
  },
  {
   "cell_type": "code",
   "execution_count": 10,
   "id": "153d3580",
   "metadata": {},
   "outputs": [
    {
     "data": {
      "text/html": [
       "<div>\n",
       "<style scoped>\n",
       "    .dataframe tbody tr th:only-of-type {\n",
       "        vertical-align: middle;\n",
       "    }\n",
       "\n",
       "    .dataframe tbody tr th {\n",
       "        vertical-align: top;\n",
       "    }\n",
       "\n",
       "    .dataframe thead th {\n",
       "        text-align: right;\n",
       "    }\n",
       "</style>\n",
       "<table border=\"1\" class=\"dataframe\">\n",
       "  <thead>\n",
       "    <tr style=\"text-align: right;\">\n",
       "      <th></th>\n",
       "      <th>survived</th>\n",
       "      <th>pclass</th>\n",
       "      <th>age</th>\n",
       "      <th>sibsp</th>\n",
       "      <th>parch</th>\n",
       "      <th>fare</th>\n",
       "      <th>alone</th>\n",
       "      <th>Cherbourg</th>\n",
       "      <th>Queenstown</th>\n",
       "      <th>Southampton</th>\n",
       "      <th>female</th>\n",
       "      <th>male</th>\n",
       "    </tr>\n",
       "  </thead>\n",
       "  <tbody>\n",
       "    <tr>\n",
       "      <th>455</th>\n",
       "      <td>1</td>\n",
       "      <td>3</td>\n",
       "      <td>29</td>\n",
       "      <td>0</td>\n",
       "      <td>0</td>\n",
       "      <td>7.8958</td>\n",
       "      <td>1</td>\n",
       "      <td>1</td>\n",
       "      <td>0</td>\n",
       "      <td>0</td>\n",
       "      <td>0</td>\n",
       "      <td>1</td>\n",
       "    </tr>\n",
       "    <tr>\n",
       "      <th>380</th>\n",
       "      <td>1</td>\n",
       "      <td>1</td>\n",
       "      <td>42</td>\n",
       "      <td>0</td>\n",
       "      <td>0</td>\n",
       "      <td>227.5250</td>\n",
       "      <td>1</td>\n",
       "      <td>1</td>\n",
       "      <td>0</td>\n",
       "      <td>0</td>\n",
       "      <td>1</td>\n",
       "      <td>0</td>\n",
       "    </tr>\n",
       "  </tbody>\n",
       "</table>\n",
       "</div>"
      ],
      "text/plain": [
       "     survived  pclass  age  sibsp  parch      fare  alone  Cherbourg  \\\n",
       "455         1       3   29      0      0    7.8958      1          1   \n",
       "380         1       1   42      0      0  227.5250      1          1   \n",
       "\n",
       "     Queenstown  Southampton  female  male  \n",
       "455           0            0       0     1  \n",
       "380           0            0       1     0  "
      ]
     },
     "execution_count": 10,
     "metadata": {},
     "output_type": "execute_result"
    }
   ],
   "source": [
    "train.head(2)\n"
   ]
  },
  {
   "cell_type": "markdown",
   "id": "8ff81e2e",
   "metadata": {},
   "source": [
    "### 1. What is your baseline prediction? What is your baseline accuracy? remember: your baseline prediction for a classification problem is predicting the most prevelant class in the training dataset (the mode). When you make those predictions, what is your accuracy? This is your baseline accuracy."
   ]
  },
  {
   "cell_type": "code",
   "execution_count": 11,
   "id": "d6f771b6",
   "metadata": {},
   "outputs": [
    {
     "data": {
      "text/plain": [
       "survived\n",
       "0    329\n",
       "1    205\n",
       "Name: count, dtype: int64"
      ]
     },
     "execution_count": 11,
     "metadata": {},
     "output_type": "execute_result"
    }
   ],
   "source": [
    "# Counts for target value: survived\n",
    "train.survived.value_counts()"
   ]
  },
  {
   "cell_type": "markdown",
   "id": "3c393da5",
   "metadata": {},
   "source": [
    "- Baseline prediction is done by predicting the mean of the target variable (for a regression problem) or   predicting the most prevalent class i.e mode(for a classification problem).\n",
    "\n",
    "\n"
   ]
  },
  {
   "cell_type": "code",
   "execution_count": 59,
   "id": "5abd63aa",
   "metadata": {},
   "outputs": [
    {
     "name": "stdout",
     "output_type": "stream",
     "text": [
      "Baseline_accuracy of individuals who did not survive the Titanic shipwreck:61.61%\n"
     ]
    }
   ],
   "source": [
    "#instances in the training dataset where the 'survived' column has a value of 0 (not surviving)\n",
    "\n",
    "baseline_accuracy = (train['survived'] == 0).mean()\n",
    "print(f\"Baseline_accuracy of individuals who did not survive the Titanic shipwreck:{baseline_accuracy:.2%}\")\n",
    "\n"
   ]
  },
  {
   "cell_type": "markdown",
   "id": "5b3b290f",
   "metadata": {},
   "source": [
    "> Baseline Prediction: 0\n",
    "\n",
    "\n",
    "> Baseline Accuracy: 61.6%   "
   ]
  },
  {
   "cell_type": "markdown",
   "id": "8b7f0609",
   "metadata": {},
   "source": [
    "### 2. Fit the decision tree classifier to your training sample and transform (i.e. make predictions on the training sample)"
   ]
  },
  {
   "cell_type": "code",
   "execution_count": 60,
   "id": "62ac40f2",
   "metadata": {},
   "outputs": [],
   "source": [
    "# Splitting the dataset into features (X) and target labels (y) for training, validation, and testing sets\n",
    "# Extracting features by removing the 'survived' column\n",
    "\n",
    "# For training set\n",
    "X_train = train.drop(columns='survived')\n",
    "y_train = train.survived\n",
    "\n",
    "# For validation set\n",
    "X_val = validate.drop(columns='survived')\n",
    "y_val = validate.survived\n",
    "\n",
    "# For testing set\n",
    "X_test = test.drop(columns='survived')\n",
    "y_test = test.survived\n"
   ]
  },
  {
   "cell_type": "code",
   "execution_count": 61,
   "id": "f9eef053",
   "metadata": {},
   "outputs": [
    {
     "data": {
      "text/html": [
       "<div>\n",
       "<style scoped>\n",
       "    .dataframe tbody tr th:only-of-type {\n",
       "        vertical-align: middle;\n",
       "    }\n",
       "\n",
       "    .dataframe tbody tr th {\n",
       "        vertical-align: top;\n",
       "    }\n",
       "\n",
       "    .dataframe thead th {\n",
       "        text-align: right;\n",
       "    }\n",
       "</style>\n",
       "<table border=\"1\" class=\"dataframe\">\n",
       "  <thead>\n",
       "    <tr style=\"text-align: right;\">\n",
       "      <th></th>\n",
       "      <th>pclass</th>\n",
       "      <th>age</th>\n",
       "      <th>sibsp</th>\n",
       "      <th>parch</th>\n",
       "      <th>fare</th>\n",
       "      <th>alone</th>\n",
       "      <th>Cherbourg</th>\n",
       "      <th>Queenstown</th>\n",
       "      <th>Southampton</th>\n",
       "      <th>female</th>\n",
       "      <th>male</th>\n",
       "    </tr>\n",
       "  </thead>\n",
       "  <tbody>\n",
       "    <tr>\n",
       "      <th>455</th>\n",
       "      <td>3</td>\n",
       "      <td>29</td>\n",
       "      <td>0</td>\n",
       "      <td>0</td>\n",
       "      <td>7.8958</td>\n",
       "      <td>1</td>\n",
       "      <td>1</td>\n",
       "      <td>0</td>\n",
       "      <td>0</td>\n",
       "      <td>0</td>\n",
       "      <td>1</td>\n",
       "    </tr>\n",
       "    <tr>\n",
       "      <th>380</th>\n",
       "      <td>1</td>\n",
       "      <td>42</td>\n",
       "      <td>0</td>\n",
       "      <td>0</td>\n",
       "      <td>227.5250</td>\n",
       "      <td>1</td>\n",
       "      <td>1</td>\n",
       "      <td>0</td>\n",
       "      <td>0</td>\n",
       "      <td>1</td>\n",
       "      <td>0</td>\n",
       "    </tr>\n",
       "  </tbody>\n",
       "</table>\n",
       "</div>"
      ],
      "text/plain": [
       "     pclass  age  sibsp  parch      fare  alone  Cherbourg  Queenstown  \\\n",
       "455       3   29      0      0    7.8958      1          1           0   \n",
       "380       1   42      0      0  227.5250      1          1           0   \n",
       "\n",
       "     Southampton  female  male  \n",
       "455            0       0     1  \n",
       "380            0       1     0  "
      ]
     },
     "execution_count": 61,
     "metadata": {},
     "output_type": "execute_result"
    }
   ],
   "source": [
    "X_train.head(2)"
   ]
  },
  {
   "cell_type": "code",
   "execution_count": 114,
   "id": "7f9884b1",
   "metadata": {},
   "outputs": [
    {
     "data": {
      "text/html": [
       "<style>#sk-container-id-5 {color: black;background-color: white;}#sk-container-id-5 pre{padding: 0;}#sk-container-id-5 div.sk-toggleable {background-color: white;}#sk-container-id-5 label.sk-toggleable__label {cursor: pointer;display: block;width: 100%;margin-bottom: 0;padding: 0.3em;box-sizing: border-box;text-align: center;}#sk-container-id-5 label.sk-toggleable__label-arrow:before {content: \"▸\";float: left;margin-right: 0.25em;color: #696969;}#sk-container-id-5 label.sk-toggleable__label-arrow:hover:before {color: black;}#sk-container-id-5 div.sk-estimator:hover label.sk-toggleable__label-arrow:before {color: black;}#sk-container-id-5 div.sk-toggleable__content {max-height: 0;max-width: 0;overflow: hidden;text-align: left;background-color: #f0f8ff;}#sk-container-id-5 div.sk-toggleable__content pre {margin: 0.2em;color: black;border-radius: 0.25em;background-color: #f0f8ff;}#sk-container-id-5 input.sk-toggleable__control:checked~div.sk-toggleable__content {max-height: 200px;max-width: 100%;overflow: auto;}#sk-container-id-5 input.sk-toggleable__control:checked~label.sk-toggleable__label-arrow:before {content: \"▾\";}#sk-container-id-5 div.sk-estimator input.sk-toggleable__control:checked~label.sk-toggleable__label {background-color: #d4ebff;}#sk-container-id-5 div.sk-label input.sk-toggleable__control:checked~label.sk-toggleable__label {background-color: #d4ebff;}#sk-container-id-5 input.sk-hidden--visually {border: 0;clip: rect(1px 1px 1px 1px);clip: rect(1px, 1px, 1px, 1px);height: 1px;margin: -1px;overflow: hidden;padding: 0;position: absolute;width: 1px;}#sk-container-id-5 div.sk-estimator {font-family: monospace;background-color: #f0f8ff;border: 1px dotted black;border-radius: 0.25em;box-sizing: border-box;margin-bottom: 0.5em;}#sk-container-id-5 div.sk-estimator:hover {background-color: #d4ebff;}#sk-container-id-5 div.sk-parallel-item::after {content: \"\";width: 100%;border-bottom: 1px solid gray;flex-grow: 1;}#sk-container-id-5 div.sk-label:hover label.sk-toggleable__label {background-color: #d4ebff;}#sk-container-id-5 div.sk-serial::before {content: \"\";position: absolute;border-left: 1px solid gray;box-sizing: border-box;top: 0;bottom: 0;left: 50%;z-index: 0;}#sk-container-id-5 div.sk-serial {display: flex;flex-direction: column;align-items: center;background-color: white;padding-right: 0.2em;padding-left: 0.2em;position: relative;}#sk-container-id-5 div.sk-item {position: relative;z-index: 1;}#sk-container-id-5 div.sk-parallel {display: flex;align-items: stretch;justify-content: center;background-color: white;position: relative;}#sk-container-id-5 div.sk-item::before, #sk-container-id-5 div.sk-parallel-item::before {content: \"\";position: absolute;border-left: 1px solid gray;box-sizing: border-box;top: 0;bottom: 0;left: 50%;z-index: -1;}#sk-container-id-5 div.sk-parallel-item {display: flex;flex-direction: column;z-index: 1;position: relative;background-color: white;}#sk-container-id-5 div.sk-parallel-item:first-child::after {align-self: flex-end;width: 50%;}#sk-container-id-5 div.sk-parallel-item:last-child::after {align-self: flex-start;width: 50%;}#sk-container-id-5 div.sk-parallel-item:only-child::after {width: 0;}#sk-container-id-5 div.sk-dashed-wrapped {border: 1px dashed gray;margin: 0 0.4em 0.5em 0.4em;box-sizing: border-box;padding-bottom: 0.4em;background-color: white;}#sk-container-id-5 div.sk-label label {font-family: monospace;font-weight: bold;display: inline-block;line-height: 1.2em;}#sk-container-id-5 div.sk-label-container {text-align: center;}#sk-container-id-5 div.sk-container {/* jupyter's `normalize.less` sets `[hidden] { display: none; }` but bootstrap.min.css set `[hidden] { display: none !important; }` so we also need the `!important` here to be able to override the default hidden behavior on the sphinx rendered scikit-learn.org. See: https://github.com/scikit-learn/scikit-learn/issues/21755 */display: inline-block !important;position: relative;}#sk-container-id-5 div.sk-text-repr-fallback {display: none;}</style><div id=\"sk-container-id-5\" class=\"sk-top-container\"><div class=\"sk-text-repr-fallback\"><pre>DecisionTreeClassifier(random_state=42)</pre><b>In a Jupyter environment, please rerun this cell to show the HTML representation or trust the notebook. <br />On GitHub, the HTML representation is unable to render, please try loading this page with nbviewer.org.</b></div><div class=\"sk-container\" hidden><div class=\"sk-item\"><div class=\"sk-estimator sk-toggleable\"><input class=\"sk-toggleable__control sk-hidden--visually\" id=\"sk-estimator-id-5\" type=\"checkbox\" checked><label for=\"sk-estimator-id-5\" class=\"sk-toggleable__label sk-toggleable__label-arrow\">DecisionTreeClassifier</label><div class=\"sk-toggleable__content\"><pre>DecisionTreeClassifier(random_state=42)</pre></div></div></div></div></div>"
      ],
      "text/plain": [
       "DecisionTreeClassifier(random_state=42)"
      ]
     },
     "execution_count": 114,
     "metadata": {},
     "output_type": "execute_result"
    }
   ],
   "source": [
    "# Make the model\n",
    "# Instantiate object\n",
    "\n",
    "#(we can try testing for different depths)\n",
    "#we can set the depth of the tree as 3(we will get the accuracy as 81)\n",
    "#tree1 = DecisionTreeClassifier(max_depth=3, random_state=42)\n",
    "#tree1\n",
    "\n",
    "#If we don't set the max_depth there are chances of overfitting(accuracy we got here was 99,in real settings\n",
    "#we dont want almost 100 % accuracy.So choose a max_depth to avoid overfitting)\n",
    "tree1 = DecisionTreeClassifier(random_state=42)\n",
    "tree1"
   ]
  },
  {
   "cell_type": "code",
   "execution_count": 115,
   "id": "58ac2eaa",
   "metadata": {},
   "outputs": [],
   "source": [
    "# Fit the model \n",
    "tree1 = tree1.fit(X_train, y_train)"
   ]
  },
  {
   "cell_type": "code",
   "execution_count": 116,
   "id": "b7b7e5c6",
   "metadata": {},
   "outputs": [],
   "source": [
    "# Use the model\n",
    "# Evaluate the model's performance on train, first\n",
    "y_predictions = tree1.predict(X_train)"
   ]
  },
  {
   "cell_type": "code",
   "execution_count": null,
   "id": "f4f59bb0",
   "metadata": {},
   "outputs": [],
   "source": [
    "Evaluate your in-sample results using the model score, confusion matrix, and classification report."
   ]
  },
  {
   "cell_type": "code",
   "execution_count": 117,
   "id": "93353ed4",
   "metadata": {},
   "outputs": [],
   "source": [
    "def get_metrics(model,xtrain,ytrain,xtest,ytest):\n",
    "    \n",
    "    labels = sorted(y_train.unique())\n",
    "\n",
    "    # Outputs an array of predictions\n",
    "    preds = model.predict(xtest)\n",
    "    print(\"Accuracy Score:\", model.score(xtest,ytest))\n",
    "    print()\n",
    "    print('Confusion Matrix:')\n",
    "    conf = confusion_matrix(ytest,preds)\n",
    "    conf = pd.DataFrame(conf,\n",
    "            index=[str(label) + '_actual'for label in labels],\n",
    "            columns=[str(label) + '_predict'for label in labels])\n",
    "    print(conf)\n",
    "    print()\n",
    "    print(\"Classification Report:\")\n",
    "    print(classification_report(ytest, preds))"
   ]
  },
  {
   "cell_type": "code",
   "execution_count": 118,
   "id": "39a20b85",
   "metadata": {},
   "outputs": [
    {
     "name": "stdout",
     "output_type": "stream",
     "text": [
      "Accuracy Score: 0.9943820224719101\n",
      "\n",
      "Confusion Matrix:\n",
      "          0_predict  1_predict\n",
      "0_actual        329          0\n",
      "1_actual          3        202\n",
      "\n",
      "Classification Report:\n",
      "              precision    recall  f1-score   support\n",
      "\n",
      "           0       0.99      1.00      1.00       329\n",
      "           1       1.00      0.99      0.99       205\n",
      "\n",
      "    accuracy                           0.99       534\n",
      "   macro avg       1.00      0.99      0.99       534\n",
      "weighted avg       0.99      0.99      0.99       534\n",
      "\n"
     ]
    }
   ],
   "source": [
    "# in-sample results using our function\n",
    "get_metrics(tree1, X_train,y_train,X_train,y_train)"
   ]
  },
  {
   "cell_type": "code",
   "execution_count": 119,
   "id": "c5bf6d6c",
   "metadata": {},
   "outputs": [
    {
     "data": {
      "image/png": "[encoded data removed]",
      "text/plain": [
       "<Figure size 1800x700 with 1 Axes>"
      ]
     },
     "metadata": {},
     "output_type": "display_data"
    }
   ],
   "source": [
    "#Here max_depth is not set\n",
    "# Using plot_tree to visualize the decision tree model 'tree1'\n",
    "# Feature names are provided for better node labeling taken from X_train.columns\n",
    "# Class names '0' and '1' correspond to the two classes in the binary classification of the Titanic dataset \n",
    "#(not survived  and survived)\n",
    "\n",
    "plt.figure(figsize=(18, 7))\n",
    "plot_tree(tree1, feature_names=X_train.columns.tolist(), class_names=['0','1'])\n",
    "plt.show()"
   ]
  },
  {
   "cell_type": "code",
   "execution_count": 113,
   "id": "193ae6a0",
   "metadata": {},
   "outputs": [
    {
     "data": {
      "image/png": "[encoded data removed]",
      "text/plain": [
       "<Figure size 1800x700 with 1 Axes>"
      ]
     },
     "metadata": {},
     "output_type": "display_data"
    }
   ],
   "source": [
    "#Here max_depth is set to 3\n",
    "# Using plot_tree to visualize the decision tree model 'tree1'\n",
    "# Feature names are provided for better node labeling taken from X_train.columns\n",
    "# Class names '0' and '1' correspond to the two classes in the binary classification of the Titanic dataset \n",
    "#(not survived  and survived)\n",
    "\n",
    "plt.figure(figsize=(18, 7))\n",
    "plot_tree(tree1, feature_names=X_train.columns.tolist(), class_names=['0','1'])\n",
    "plt.show()"
   ]
  },
  {
   "cell_type": "markdown",
   "id": "07cd9b89",
   "metadata": {},
   "source": [
    "### 3. Evaluate your in-sample results using the model score, confusion matrix, and classification report."
   ]
  },
  {
   "cell_type": "code",
   "execution_count": 79,
   "id": "89ef7834",
   "metadata": {},
   "outputs": [
    {
     "name": "stdout",
     "output_type": "stream",
     "text": [
      "Accuracy of Decision Tree classifier on training set: 0.99\n"
     ]
    }
   ],
   "source": [
    "# we have our model clf, let's get those metrics from our informational output\n",
    "print('Accuracy of Decision Tree classifier on training set: {:.2f}'\n",
    "      .format(tree1.score(X_train, y_train)))"
   ]
  },
  {
   "cell_type": "code",
   "execution_count": 80,
   "id": "7d7eabed",
   "metadata": {},
   "outputs": [
    {
     "data": {
      "text/plain": [
       "array([[329,   0],\n",
       "       [  3, 202]])"
      ]
     },
     "execution_count": 80,
     "metadata": {},
     "output_type": "execute_result"
    }
   ],
   "source": [
    "# Confusion matrix\n",
    "conf = confusion_matrix(y_train, y_predictions)\n",
    "conf"
   ]
  },
  {
   "cell_type": "code",
   "execution_count": 81,
   "id": "42ef823b",
   "metadata": {},
   "outputs": [
    {
     "data": {
      "image/png": "[encoded data removed]",
      "text/plain": [
       "<Figure size 640x480 with 2 Axes>"
      ]
     },
     "metadata": {},
     "output_type": "display_data"
    }
   ],
   "source": [
    "from sklearn.metrics import confusion_matrix, ConfusionMatrixDisplay\n",
    "import matplotlib.pyplot as plt\n",
    "\n",
    "# y_train contains the true labels and y_predictions contains the predicted labels\n",
    "cm = confusion_matrix(y_train, y_predictions)\n",
    "display_labels = ['0', '1']  \n",
    "\n",
    "# Create a ConfusionMatrixDisplay object\n",
    "confusion_matrix_display = ConfusionMatrixDisplay(confusion_matrix=cm, display_labels=display_labels)\n",
    "\n",
    "# Set the colormap and plot the confusion matrix\n",
    "confusion_matrix_display.plot(cmap=plt.cm.Blues)  \n",
    "\n",
    "# Add title and axis labels\n",
    "plt.title(\"Confusion Matrix\")\n",
    "plt.xlabel(\"Predicted Labels\")\n",
    "plt.ylabel(\"True Labels\")\n",
    "\n",
    "# Show the plot\n",
    "plt.show()\n"
   ]
  },
  {
   "cell_type": "code",
   "execution_count": 83,
   "id": "6bfca077",
   "metadata": {},
   "outputs": [
    {
     "name": "stdout",
     "output_type": "stream",
     "text": [
      "              precision    recall  f1-score   support\n",
      "\n",
      "           0       0.99      1.00      1.00       329\n",
      "           1       1.00      0.99      0.99       205\n",
      "\n",
      "    accuracy                           0.99       534\n",
      "   macro avg       1.00      0.99      0.99       534\n",
      "weighted avg       0.99      0.99      0.99       534\n",
      "\n"
     ]
    }
   ],
   "source": [
    "print(classification_report(y_train, y_predictions))"
   ]
  },
  {
   "cell_type": "markdown",
   "id": "351d228f",
   "metadata": {},
   "source": [
    "### 4.Compute: Accuracy, true positive rate, false positive rate, true negative rate, false negative rate, precision, recall, f1-score, and support."
   ]
  },
  {
   "cell_type": "code",
   "execution_count": 85,
   "id": "9d13e5c2",
   "metadata": {},
   "outputs": [],
   "source": [
    "def compute_metrics(TN,FP,FN,TP):\n",
    "    all_ = (TP + TN + FP + FN)\n",
    "\n",
    "    accuracy = (TP + TN) / all_\n",
    "\n",
    "    TPR = recall = TP / (TP + FN)\n",
    "    FPR = FP / (FP + TN)\n",
    "\n",
    "    TNR = TN / (FP + TN)\n",
    "    FNR = FN / (FN + TP)\n",
    "\n",
    "    precision =  TP / (TP + FP)\n",
    "    f1 =  2 * ((precision * recall) / ( precision + recall))\n",
    "\n",
    "    support_pos = TP + FN\n",
    "    support_neg = FP + TN\n",
    "\n",
    "    print(f\"Accuracy: {accuracy}\\n\")\n",
    "    print(f\"True Positive Rate/Sensitivity/Recall/Power: {TPR}\")\n",
    "    print(f\"False Positive Rate/False Alarm Ratio/Fall-out: {FPR}\")\n",
    "    print(f\"True Negative Rate/Specificity/Selectivity: {TNR}\")\n",
    "    print(f\"False Negative Rate/Miss Rate: {FNR}\\n\")\n",
    "    print(f\"Precision/PPV: {precision}\")\n",
    "    print(f\"F1 Score: {f1}\\n\")\n",
    "    print(f\"Support (0): {support_pos}\")\n",
    "    print(f\"Support (1): {support_neg}\")"
   ]
  },
  {
   "cell_type": "code",
   "execution_count": 87,
   "id": "6ff7fe6e",
   "metadata": {},
   "outputs": [
    {
     "data": {
      "text/plain": [
       "(329, 0, 3, 202)"
      ]
     },
     "execution_count": 87,
     "metadata": {},
     "output_type": "execute_result"
    }
   ],
   "source": [
    "confu = confusion_matrix(y_train,tree1.predict(X_train))\n",
    "TN, FP, FN, TP = confu.ravel()\n",
    "TN, FP, FN, TP \n"
   ]
  },
  {
   "cell_type": "code",
   "execution_count": 88,
   "id": "5e163ac3",
   "metadata": {},
   "outputs": [
    {
     "data": {
      "text/plain": [
       "329"
      ]
     },
     "execution_count": 88,
     "metadata": {},
     "output_type": "execute_result"
    }
   ],
   "source": [
    "TN"
   ]
  },
  {
   "cell_type": "code",
   "execution_count": 89,
   "id": "f782810c",
   "metadata": {},
   "outputs": [
    {
     "name": "stdout",
     "output_type": "stream",
     "text": [
      "Accuracy: 0.9943820224719101\n",
      "\n",
      "True Positive Rate/Sensitivity/Recall/Power: 0.9853658536585366\n",
      "False Positive Rate/False Alarm Ratio/Fall-out: 0.0\n",
      "True Negative Rate/Specificity/Selectivity: 1.0\n",
      "False Negative Rate/Miss Rate: 0.014634146341463415\n",
      "\n",
      "Precision/PPV: 1.0\n",
      "F1 Score: 0.9926289926289926\n",
      "\n",
      "Support (0): 205\n",
      "Support (1): 329\n"
     ]
    }
   ],
   "source": [
    "compute_metrics(TN,FP,FN,TP)"
   ]
  },
  {
   "cell_type": "code",
   "execution_count": null,
   "id": "1f30ae03",
   "metadata": {},
   "outputs": [],
   "source": [
    "#OR"
   ]
  },
  {
   "cell_type": "code",
   "execution_count": 90,
   "id": "86f93a31",
   "metadata": {},
   "outputs": [
    {
     "data": {
      "text/html": [
       "<div>\n",
       "<style scoped>\n",
       "    .dataframe tbody tr th:only-of-type {\n",
       "        vertical-align: middle;\n",
       "    }\n",
       "\n",
       "    .dataframe tbody tr th {\n",
       "        vertical-align: top;\n",
       "    }\n",
       "\n",
       "    .dataframe thead th {\n",
       "        text-align: right;\n",
       "    }\n",
       "</style>\n",
       "<table border=\"1\" class=\"dataframe\">\n",
       "  <thead>\n",
       "    <tr style=\"text-align: right;\">\n",
       "      <th></th>\n",
       "      <th>0 predict</th>\n",
       "      <th>1 predict</th>\n",
       "    </tr>\n",
       "  </thead>\n",
       "  <tbody>\n",
       "    <tr>\n",
       "      <th>0 actual</th>\n",
       "      <td>329</td>\n",
       "      <td>0</td>\n",
       "    </tr>\n",
       "    <tr>\n",
       "      <th>1 actual</th>\n",
       "      <td>3</td>\n",
       "      <td>202</td>\n",
       "    </tr>\n",
       "  </tbody>\n",
       "</table>\n",
       "</div>"
      ],
      "text/plain": [
       "          0 predict  1 predict\n",
       "0 actual        329          0\n",
       "1 actual          3        202"
      ]
     },
     "execution_count": 90,
     "metadata": {},
     "output_type": "execute_result"
    }
   ],
   "source": [
    "labels = sorted(y_train.unique())\n",
    "labels\n",
    "confusion_df = pd.DataFrame(cm, index=[f'{label} actual' for label in labels], columns=[f'{label} predict' for label in labels])\n",
    "confusion_df"
   ]
  },
  {
   "cell_type": "code",
   "execution_count": 91,
   "id": "861e498a",
   "metadata": {},
   "outputs": [
    {
     "data": {
      "text/plain": [
       "array([329,   0,   3, 202])"
      ]
     },
     "execution_count": 91,
     "metadata": {},
     "output_type": "execute_result"
    }
   ],
   "source": [
    "conf.ravel()"
   ]
  },
  {
   "cell_type": "code",
   "execution_count": 92,
   "id": "e7a67911",
   "metadata": {},
   "outputs": [
    {
     "data": {
      "text/plain": [
       "(329, 0, 3, 202)"
      ]
     },
     "execution_count": 92,
     "metadata": {},
     "output_type": "execute_result"
    }
   ],
   "source": [
    "TN, FP, FN, TP = conf.ravel()\n",
    "TN, FP, FN, TP"
   ]
  },
  {
   "cell_type": "code",
   "execution_count": 93,
   "id": "786f8335",
   "metadata": {},
   "outputs": [],
   "source": [
    "all = (TP + TN + FP + FN)\n",
    "\n",
    "accuracy = (TP + TN) / all\n",
    "\n",
    "TPR = recall = TP / (TP + FN)\n",
    "FPR = FP / (FP + TN)\n",
    "\n",
    "TNR = TN / (FP + TN)\n",
    "FNR = FN / (FN + TP)\n",
    "\n",
    "precision =  TP / (TP + FP)\n",
    "f1 =  2 * ((precision * recall) / ( precision + recall))\n",
    "\n",
    "support_pos = TP + FN\n",
    "support_neg = FP + TN"
   ]
  },
  {
   "cell_type": "code",
   "execution_count": 94,
   "id": "fe2c5d3e",
   "metadata": {},
   "outputs": [
    {
     "name": "stdout",
     "output_type": "stream",
     "text": [
      "Accuracy: 0.9943820224719101\n",
      "\n",
      "True Positive Rate/Sensitivity/Recall/Power: 0.9853658536585366\n",
      "False Positive Rate/False Alarm Ratio/Fall-out: 0.0\n",
      "True Negative Rate/Specificity/Selectivity: 1.0\n",
      "False Negative Rate/Miss Rate: 0.014634146341463415\n",
      "\n",
      "Precision/PPV: 1.0\n",
      "F1 Score: 0.9926289926289926\n",
      "\n",
      "Support (0): 205\n",
      "Support (1): 329\n"
     ]
    }
   ],
   "source": [
    "print(f\"Accuracy: {accuracy}\\n\")\n",
    "print(f\"True Positive Rate/Sensitivity/Recall/Power: {TPR}\")\n",
    "print(f\"False Positive Rate/False Alarm Ratio/Fall-out: {FPR}\")\n",
    "print(f\"True Negative Rate/Specificity/Selectivity: {TNR}\")\n",
    "print(f\"False Negative Rate/Miss Rate: {FNR}\\n\")\n",
    "print(f\"Precision/PPV: {precision}\")\n",
    "print(f\"F1 Score: {f1}\\n\")\n",
    "print(f\"Support (0): {support_pos}\")\n",
    "print(f\"Support (1): {support_neg}\")"
   ]
  },
  {
   "cell_type": "markdown",
   "id": "dd6dfed8",
   "metadata": {},
   "source": [
    "### 5.Run through steps 2-4 using a different max_depth value."
   ]
  },
  {
   "cell_type": "code",
   "execution_count": 95,
   "id": "42184d35",
   "metadata": {},
   "outputs": [
    {
     "data": {
      "text/plain": [
       "0.9531835205992509"
      ]
     },
     "execution_count": 95,
     "metadata": {},
     "output_type": "execute_result"
    }
   ],
   "source": [
    "#for one\n",
    "tree2 = DecisionTreeClassifier(max_depth=10, random_state=7)\n",
    "tree2 = tree2.fit(X_train, y_train)\n",
    "tree2.score(X_train, y_train)"
   ]
  },
  {
   "cell_type": "code",
   "execution_count": 96,
   "id": "f0506d64",
   "metadata": {},
   "outputs": [
    {
     "name": "stdout",
     "output_type": "stream",
     "text": [
      "for depth of  1, the accuracy is 0.79\n",
      "for depth of  2, the accuracy is 0.79\n",
      "for depth of  3, the accuracy is 0.82\n",
      "for depth of  4, the accuracy is 0.83\n",
      "for depth of  5, the accuracy is 0.84\n",
      "for depth of  6, the accuracy is 0.86\n",
      "for depth of  7, the accuracy is 0.88\n",
      "for depth of  8, the accuracy is 0.9\n",
      "for depth of  9, the accuracy is 0.93\n",
      "for depth of 10, the accuracy is 0.95\n",
      "for depth of 11, the accuracy is 0.97\n",
      "for depth of 12, the accuracy is 0.98\n",
      "for depth of 13, the accuracy is 0.98\n",
      "for depth of 14, the accuracy is 0.99\n",
      "for depth of 15, the accuracy is 0.99\n",
      "for depth of 16, the accuracy is 0.99\n",
      "for depth of 17, the accuracy is 0.99\n",
      "for depth of 18, the accuracy is 0.99\n",
      "for depth of 19, the accuracy is 0.99\n"
     ]
    }
   ],
   "source": [
    "#for many\n",
    "for x in range(1,20):\n",
    "#     print(x)\n",
    "    tree = DecisionTreeClassifier(max_depth=x, random_state=7)\n",
    "    tree.fit(X_train, y_train)\n",
    "    acc = tree.score(X_train, y_train)\n",
    "    print(f'for depth of {x:2}, the accuracy is {round(acc,2)}')"
   ]
  },
  {
   "cell_type": "code",
   "execution_count": 99,
   "id": "8649f755",
   "metadata": {},
   "outputs": [
    {
     "data": {
      "text/html": [
       "<div>\n",
       "<style scoped>\n",
       "    .dataframe tbody tr th:only-of-type {\n",
       "        vertical-align: middle;\n",
       "    }\n",
       "\n",
       "    .dataframe tbody tr th {\n",
       "        vertical-align: top;\n",
       "    }\n",
       "\n",
       "    .dataframe thead th {\n",
       "        text-align: right;\n",
       "    }\n",
       "</style>\n",
       "<table border=\"1\" class=\"dataframe\">\n",
       "  <thead>\n",
       "    <tr style=\"text-align: right;\">\n",
       "      <th></th>\n",
       "      <th>max_depth</th>\n",
       "      <th>train_acc</th>\n",
       "      <th>val_acc</th>\n",
       "    </tr>\n",
       "  </thead>\n",
       "  <tbody>\n",
       "    <tr>\n",
       "      <th>4</th>\n",
       "      <td>5</td>\n",
       "      <td>0.842697</td>\n",
       "      <td>0.803371</td>\n",
       "    </tr>\n",
       "    <tr>\n",
       "      <th>2</th>\n",
       "      <td>3</td>\n",
       "      <td>0.818352</td>\n",
       "      <td>0.792135</td>\n",
       "    </tr>\n",
       "    <tr>\n",
       "      <th>3</th>\n",
       "      <td>4</td>\n",
       "      <td>0.831461</td>\n",
       "      <td>0.792135</td>\n",
       "    </tr>\n",
       "    <tr>\n",
       "      <th>5</th>\n",
       "      <td>6</td>\n",
       "      <td>0.859551</td>\n",
       "      <td>0.780899</td>\n",
       "    </tr>\n",
       "    <tr>\n",
       "      <th>0</th>\n",
       "      <td>1</td>\n",
       "      <td>0.792135</td>\n",
       "      <td>0.775281</td>\n",
       "    </tr>\n",
       "  </tbody>\n",
       "</table>\n",
       "</div>"
      ],
      "text/plain": [
       "   max_depth  train_acc   val_acc\n",
       "4          5   0.842697  0.803371\n",
       "2          3   0.818352  0.792135\n",
       "3          4   0.831461  0.792135\n",
       "5          6   0.859551  0.780899\n",
       "0          1   0.792135  0.775281"
      ]
     },
     "execution_count": 99,
     "metadata": {},
     "output_type": "execute_result"
    }
   ],
   "source": [
    "#This function iterates through different max depths of a decision tree classifier, \n",
    "#evaluates its training and validation accuracies, stores the results in a DataFrame,\n",
    "#and displays the top-performing configurations by validation accuracy.\n",
    "\n",
    "#empty list created to store the results for different configurations of the decision tree classifier\n",
    "scores_all = []\n",
    "\n",
    "#loop iterates through values from 1 to 19\n",
    "for x in range(1,20):\n",
    "\n",
    "    #Create and Train Tree on training data\n",
    "    tree = DecisionTreeClassifier(max_depth=x, random_state=7)\n",
    "    tree.fit(X_train, y_train)\n",
    "    \n",
    "    # evaluate on train using score method on the train data \n",
    "    train_acc = tree.score(X_train, y_train)\n",
    "    \n",
    "    #Evaluate Validation accuracy on validate data using score method  \n",
    "    val_acc = tree.score(X_val, y_val)\n",
    "    \n",
    "    #Append results\n",
    "    scores_all.append([x, train_acc, val_acc])\n",
    "    \n",
    "# converts the scores_all list of lists into a pandas DataFrame named scores_df and assigns columns \n",
    "# max_depth','train_acc','val_acc'    \n",
    "scores_df = pd.DataFrame(scores_all, columns=['max_depth','train_acc','val_acc'])\n",
    "scores_df = pd.DataFrame(scores_all, columns=['max_depth','train_acc','val_acc'])\n",
    "#sorts the DataFrame scores_df in descending order based on the 'val_acc' column\n",
    "scores_df.sort_values(by=['val_acc'], ascending=False).head()"
   ]
  },
  {
   "cell_type": "code",
   "execution_count": null,
   "id": "0b61b444",
   "metadata": {},
   "outputs": [],
   "source": [
    "# OR"
   ]
  },
  {
   "cell_type": "code",
   "execution_count": 34,
   "id": "2726f6af",
   "metadata": {},
   "outputs": [
    {
     "data": {
      "text/plain": [
       "0.7921348314606742"
      ]
     },
     "execution_count": 34,
     "metadata": {},
     "output_type": "execute_result"
    }
   ],
   "source": [
    "# max depth = 1\n",
    "tree2 = DecisionTreeClassifier(max_depth=1, random_state= 42)\n",
    "tree2.fit(X_\n",
    "          train, y_train)\n",
    "tree2.score(X_train, y_train)"
   ]
  },
  {
   "cell_type": "code",
   "execution_count": 52,
   "id": "0603fdde",
   "metadata": {},
   "outputs": [
    {
     "data": {
      "text/plain": [
       "0.8183520599250936"
      ]
     },
     "execution_count": 52,
     "metadata": {},
     "output_type": "execute_result"
    }
   ],
   "source": [
    "# from previous tree1 max depth = 3\n",
    "tree1.fit(X_train, y_train)\n",
    "tree1.score(X_train, y_train)"
   ]
  },
  {
   "cell_type": "markdown",
   "id": "be92c35a",
   "metadata": {},
   "source": [
    "### 6.Which model performs better on your in-sample data?"
   ]
  },
  {
   "cell_type": "markdown",
   "id": "f8d6931d",
   "metadata": {},
   "source": [
    "- look at the highest training accuracy achieved among all the models you trained.\n"
   ]
  },
  {
   "cell_type": "markdown",
   "id": "d30ee581",
   "metadata": {},
   "source": [
    "\n",
    "> The optimal model would be with a max depth of 15 or greater"
   ]
  },
  {
   "cell_type": "markdown",
   "id": "9deac558",
   "metadata": {},
   "source": [
    "- The model's performance on the data it was trained on (i.e., the training data)\n",
    "- A higher training accuracy indicates that the model is overfitting the training data, but it doesn't necessarily mean the model will perform as well on new, unseen data (i.e., the validation or test data)."
   ]
  },
  {
   "cell_type": "code",
   "execution_count": 107,
   "id": "a3c6645c",
   "metadata": {},
   "outputs": [
    {
     "data": {
      "text/plain": [
       "0.9943820224719101"
      ]
     },
     "execution_count": 107,
     "metadata": {},
     "output_type": "execute_result"
    }
   ],
   "source": [
    "best_training_accuracy = scores_df['train_acc'].max()\n",
    "best_training_accuracy"
   ]
  },
  {
   "cell_type": "markdown",
   "id": "2a59203a",
   "metadata": {},
   "source": [
    "### 7.Which model performs best on your out-of-sample data, the validate set?"
   ]
  },
  {
   "cell_type": "markdown",
   "id": "f22982a9",
   "metadata": {},
   "source": [
    "- Out-of-sample data -The model's performance on data it hasn't seen during training, specifically the validation data"
   ]
  },
  {
   "cell_type": "code",
   "execution_count": 105,
   "id": "6a8fe956",
   "metadata": {},
   "outputs": [
    {
     "data": {
      "text/plain": [
       "0.8033707865168539"
      ]
     },
     "execution_count": 105,
     "metadata": {},
     "output_type": "execute_result"
    }
   ],
   "source": [
    "best_validation_accuracy = scores_df['val_acc'].max()\n",
    "best_validation_accuracy"
   ]
  },
  {
   "cell_type": "code",
   "execution_count": null,
   "id": "03abcc76",
   "metadata": {},
   "outputs": [],
   "source": [
    "# Model with max depth of 12 is the optimal model"
   ]
  },
  {
   "cell_type": "code",
   "execution_count": 100,
   "id": "d10ede81",
   "metadata": {},
   "outputs": [
    {
     "data": {
      "image/png": "[encoded data removed]",
      "text/plain": [
       "<Figure size 1200x600 with 1 Axes>"
      ]
     },
     "metadata": {},
     "output_type": "display_data"
    }
   ],
   "source": [
    "#Visualize how accuracy changes with different maximum depths for a decision tree classifier on both the training \n",
    "#and validation sets\n",
    "\n",
    "plt.figure(figsize=(12,6))\n",
    "plt.plot(scores_df.max_depth, scores_df.train_acc, label='train', marker='o')\n",
    "plt.plot(scores_df.max_depth, scores_df.val_acc, label='test', marker='o')\n",
    "plt.xlabel('max depth')\n",
    "plt.ylabel('accuracy')\n",
    "plt.title('how does the accuracy change with max depth on train and validate?')\n",
    "plt.legend()\n",
    "plt.show()\n"
   ]
  },
  {
   "cell_type": "markdown",
   "id": "a293aff4",
   "metadata": {},
   "source": [
    "> This chart highlights a fundamental topic called the bias variance trade off...\n",
    "\n",
    "> Overfitting vs Underfitting\n",
    "\n",
    "> Imagine a scatter plot so theres an x and y axis with various data points\n",
    "\n",
    "> Underfitting (High Bias) would be drawing a straight line horizontally so hitting a small minority of the data. High train/test error because its failing to capture the data, to make accurate predictions\n",
    "\n",
    "> Overfitting (High Variance) would be drawing a line through every single point of that line. Low train error because its fitting to the data so closely and high test error because it can't generlaize well\n",
    "\n",
    "> Goal is to acheive a model that performs well in terms of your metrics/that predicts well on training and test data\n",
    "\n",
    " "
   ]
  },
  {
   "cell_type": "code",
   "execution_count": null,
   "id": "30f1a4a2",
   "metadata": {},
   "outputs": [],
   "source": [
    "very close, but model with depth = 3"
   ]
  },
  {
   "cell_type": "code",
   "execution_count": 262,
   "id": "7bd9650d",
   "metadata": {},
   "outputs": [
    {
     "data": {
      "text/plain": [
       "sibsp          0\n",
       "parch          0\n",
       "fare           0\n",
       "alone          0\n",
       "Cherbourg      0\n",
       "Queenstown     0\n",
       "Southampton    0\n",
       "dtype: int64"
      ]
     },
     "execution_count": 262,
     "metadata": {},
     "output_type": "execute_result"
    }
   ],
   "source": [
    "X_train.isnull().sum()"
   ]
  },
  {
   "cell_type": "code",
   "execution_count": 263,
   "id": "ad93a52a",
   "metadata": {},
   "outputs": [
    {
     "data": {
      "text/plain": [
       "0.5955056179775281"
      ]
     },
     "execution_count": 263,
     "metadata": {},
     "output_type": "execute_result"
    }
   ],
   "source": [
    "# max depth = 1 \n",
    "tree = DecisionTreeClassifier(max_depth=1, random_state= 42)\n",
    "out_tree = tree.fit(X_train, y_train)\n",
    "out_tree.score(X_val, y_val)\n"
   ]
  },
  {
   "cell_type": "code",
   "execution_count": 264,
   "id": "1938914e",
   "metadata": {},
   "outputs": [
    {
     "data": {
      "text/plain": [
       "0.6629213483146067"
      ]
     },
     "execution_count": 264,
     "metadata": {},
     "output_type": "execute_result"
    }
   ],
   "source": [
    "# max depth = 3\n",
    "tree = DecisionTreeClassifier(max_depth=3, random_state=42)\n",
    "out_tree = tree.fit(X_train, y_train)\n",
    "out_tree.score(X_val, y_val)"
   ]
  },
  {
   "cell_type": "markdown",
   "id": "53932ffa",
   "metadata": {},
   "source": [
    "## Part II  Using Telco data"
   ]
  },
  {
   "cell_type": "markdown",
   "id": "3bf0c53f",
   "metadata": {},
   "source": [
    "### 1.Work through these same exercises using the Telco dataset.\n"
   ]
  },
  {
   "cell_type": "code",
   "execution_count": 5,
   "id": "9d4dec11",
   "metadata": {},
   "outputs": [
    {
     "data": {
      "text/html": [
       "<div>\n",
       "<style scoped>\n",
       "    .dataframe tbody tr th:only-of-type {\n",
       "        vertical-align: middle;\n",
       "    }\n",
       "\n",
       "    .dataframe tbody tr th {\n",
       "        vertical-align: top;\n",
       "    }\n",
       "\n",
       "    .dataframe thead th {\n",
       "        text-align: right;\n",
       "    }\n",
       "</style>\n",
       "<table border=\"1\" class=\"dataframe\">\n",
       "  <thead>\n",
       "    <tr style=\"text-align: right;\">\n",
       "      <th></th>\n",
       "      <th>tenure</th>\n",
       "      <th>monthly_charges</th>\n",
       "      <th>total_charges</th>\n",
       "      <th>churn</th>\n",
       "    </tr>\n",
       "  </thead>\n",
       "  <tbody>\n",
       "    <tr>\n",
       "      <th>0</th>\n",
       "      <td>9</td>\n",
       "      <td>65.60</td>\n",
       "      <td>593.30</td>\n",
       "      <td>0</td>\n",
       "    </tr>\n",
       "    <tr>\n",
       "      <th>1</th>\n",
       "      <td>9</td>\n",
       "      <td>59.90</td>\n",
       "      <td>542.40</td>\n",
       "      <td>0</td>\n",
       "    </tr>\n",
       "    <tr>\n",
       "      <th>2</th>\n",
       "      <td>4</td>\n",
       "      <td>73.90</td>\n",
       "      <td>280.85</td>\n",
       "      <td>1</td>\n",
       "    </tr>\n",
       "    <tr>\n",
       "      <th>3</th>\n",
       "      <td>13</td>\n",
       "      <td>98.00</td>\n",
       "      <td>1237.85</td>\n",
       "      <td>1</td>\n",
       "    </tr>\n",
       "    <tr>\n",
       "      <th>4</th>\n",
       "      <td>3</td>\n",
       "      <td>83.90</td>\n",
       "      <td>267.40</td>\n",
       "      <td>1</td>\n",
       "    </tr>\n",
       "    <tr>\n",
       "      <th>...</th>\n",
       "      <td>...</td>\n",
       "      <td>...</td>\n",
       "      <td>...</td>\n",
       "      <td>...</td>\n",
       "    </tr>\n",
       "    <tr>\n",
       "      <th>7038</th>\n",
       "      <td>13</td>\n",
       "      <td>55.15</td>\n",
       "      <td>742.90</td>\n",
       "      <td>0</td>\n",
       "    </tr>\n",
       "    <tr>\n",
       "      <th>7039</th>\n",
       "      <td>22</td>\n",
       "      <td>85.10</td>\n",
       "      <td>1873.70</td>\n",
       "      <td>1</td>\n",
       "    </tr>\n",
       "    <tr>\n",
       "      <th>7040</th>\n",
       "      <td>2</td>\n",
       "      <td>50.30</td>\n",
       "      <td>92.75</td>\n",
       "      <td>0</td>\n",
       "    </tr>\n",
       "    <tr>\n",
       "      <th>7041</th>\n",
       "      <td>67</td>\n",
       "      <td>67.85</td>\n",
       "      <td>4627.65</td>\n",
       "      <td>0</td>\n",
       "    </tr>\n",
       "    <tr>\n",
       "      <th>7042</th>\n",
       "      <td>63</td>\n",
       "      <td>59.00</td>\n",
       "      <td>3707.60</td>\n",
       "      <td>0</td>\n",
       "    </tr>\n",
       "  </tbody>\n",
       "</table>\n",
       "<p>7032 rows × 4 columns</p>\n",
       "</div>"
      ],
      "text/plain": [
       "      tenure  monthly_charges  total_charges  churn\n",
       "0          9            65.60         593.30      0\n",
       "1          9            59.90         542.40      0\n",
       "2          4            73.90         280.85      1\n",
       "3         13            98.00        1237.85      1\n",
       "4          3            83.90         267.40      1\n",
       "...      ...              ...            ...    ...\n",
       "7038      13            55.15         742.90      0\n",
       "7039      22            85.10        1873.70      1\n",
       "7040       2            50.30          92.75      0\n",
       "7041      67            67.85        4627.65      0\n",
       "7042      63            59.00        3707.60      0\n",
       "\n",
       "[7032 rows x 4 columns]"
      ]
     },
     "execution_count": 5,
     "metadata": {},
     "output_type": "execute_result"
    }
   ],
   "source": [
    "import acquire\n",
    "from acquire import new_telco_data\n",
    "import prepare\n",
    "from prepare import prep_telco_for_dt\n",
    "\n",
    "\n",
    "# Acquire data and prepping telco\n",
    "telco = prep_telco_for_dt(new_telco_data())\n",
    "telco"
   ]
  },
  {
   "cell_type": "code",
   "execution_count": 6,
   "id": "2bd95903",
   "metadata": {},
   "outputs": [
    {
     "data": {
      "text/plain": [
       "tenure             7032\n",
       "monthly_charges    7032\n",
       "total_charges      7032\n",
       "churn              7032\n",
       "dtype: int64"
      ]
     },
     "execution_count": 6,
     "metadata": {},
     "output_type": "execute_result"
    }
   ],
   "source": [
    "telco.count()"
   ]
  },
  {
   "cell_type": "code",
   "execution_count": 44,
   "id": "9541b2f7",
   "metadata": {},
   "outputs": [],
   "source": [
    "# Train, validate, split data\n",
    "train, validate, test = split_function(telco, 'churn')"
   ]
  },
  {
   "cell_type": "code",
   "execution_count": 45,
   "id": "b1473cbb",
   "metadata": {},
   "outputs": [
    {
     "data": {
      "text/html": [
       "<div>\n",
       "<style scoped>\n",
       "    .dataframe tbody tr th:only-of-type {\n",
       "        vertical-align: middle;\n",
       "    }\n",
       "\n",
       "    .dataframe tbody tr th {\n",
       "        vertical-align: top;\n",
       "    }\n",
       "\n",
       "    .dataframe thead th {\n",
       "        text-align: right;\n",
       "    }\n",
       "</style>\n",
       "<table border=\"1\" class=\"dataframe\">\n",
       "  <thead>\n",
       "    <tr style=\"text-align: right;\">\n",
       "      <th></th>\n",
       "      <th>tenure</th>\n",
       "      <th>monthly_charges</th>\n",
       "      <th>total_charges</th>\n",
       "      <th>churn</th>\n",
       "    </tr>\n",
       "  </thead>\n",
       "  <tbody>\n",
       "    <tr>\n",
       "      <th>5911</th>\n",
       "      <td>26</td>\n",
       "      <td>39.95</td>\n",
       "      <td>1023.75</td>\n",
       "      <td>No</td>\n",
       "    </tr>\n",
       "    <tr>\n",
       "      <th>2479</th>\n",
       "      <td>47</td>\n",
       "      <td>26.90</td>\n",
       "      <td>1250.85</td>\n",
       "      <td>No</td>\n",
       "    </tr>\n",
       "    <tr>\n",
       "      <th>5889</th>\n",
       "      <td>1</td>\n",
       "      <td>50.45</td>\n",
       "      <td>50.45</td>\n",
       "      <td>Yes</td>\n",
       "    </tr>\n",
       "    <tr>\n",
       "      <th>6087</th>\n",
       "      <td>69</td>\n",
       "      <td>60.05</td>\n",
       "      <td>4176.7</td>\n",
       "      <td>No</td>\n",
       "    </tr>\n",
       "    <tr>\n",
       "      <th>785</th>\n",
       "      <td>51</td>\n",
       "      <td>87.55</td>\n",
       "      <td>4475.9</td>\n",
       "      <td>No</td>\n",
       "    </tr>\n",
       "  </tbody>\n",
       "</table>\n",
       "</div>"
      ],
      "text/plain": [
       "      tenure  monthly_charges total_charges churn\n",
       "5911      26            39.95       1023.75    No\n",
       "2479      47            26.90       1250.85    No\n",
       "5889       1            50.45         50.45   Yes\n",
       "6087      69            60.05        4176.7    No\n",
       "785       51            87.55        4475.9    No"
      ]
     },
     "execution_count": 45,
     "metadata": {},
     "output_type": "execute_result"
    }
   ],
   "source": [
    "train.head()"
   ]
  },
  {
   "cell_type": "code",
   "execution_count": 49,
   "id": "06364cb7",
   "metadata": {},
   "outputs": [],
   "source": [
    "X_train = train.drop(columns='churn')\n",
    "y_train = train.churn\n",
    "\n",
    "X_val = validate.drop(columns='churn')\n",
    "y_val = validate.churn\n",
    "\n",
    "X_test = test.drop(columns='churn')\n",
    "y_test = test.churn"
   ]
  },
  {
   "cell_type": "code",
   "execution_count": 50,
   "id": "eedf82f6",
   "metadata": {},
   "outputs": [
    {
     "data": {
      "text/plain": [
       "churn\n",
       "0    3095\n",
       "1    1121\n",
       "Name: count, dtype: int64"
      ]
     },
     "execution_count": 50,
     "metadata": {},
     "output_type": "execute_result"
    }
   ],
   "source": [
    "train.churn.value_counts()\n"
   ]
  },
  {
   "cell_type": "code",
   "execution_count": 51,
   "id": "0cd8cbac",
   "metadata": {},
   "outputs": [
    {
     "name": "stdout",
     "output_type": "stream",
     "text": [
      "baseline accuracy: 73.41%\n"
     ]
    }
   ],
   "source": [
    "# The mode is a great baseline\n",
    "baseline = y_train.mode()\n",
    "\n",
    "# Produce a boolean array with True representing a match between the baseline prediction and reality\n",
    "matches_baseline_prediction = (y_train == 0)\n",
    "\n",
    "baseline_accuracy = matches_baseline_prediction.mean()\n",
    "print(f'baseline accuracy: {baseline_accuracy:.2%}')"
   ]
  },
  {
   "cell_type": "code",
   "execution_count": 52,
   "id": "bc0a6643",
   "metadata": {},
   "outputs": [],
   "source": [
    "# Make the model\n",
    "churn_tree = DecisionTreeClassifier(max_depth=3, random_state=42)"
   ]
  },
  {
   "cell_type": "code",
   "execution_count": 53,
   "id": "e4b28537",
   "metadata": {},
   "outputs": [],
   "source": [
    "#fit the model\n",
    "churn_tree1 = churn_tree.fit(X_train, y_train)"
   ]
  },
  {
   "cell_type": "code",
   "execution_count": 54,
   "id": "e337e43d",
   "metadata": {},
   "outputs": [
    {
     "data": {
      "image/png": "[encoded data removed]",
      "text/plain": [
       "<Figure size 1300x700 with 1 Axes>"
      ]
     },
     "metadata": {},
     "output_type": "display_data"
    }
   ],
   "source": [
    "#visualize\n",
    "plt.figure(figsize=(13, 7))\n",
    "plot_tree(churn_tree, feature_names=X_train.columns.tolist(), \n",
    "class_names = np.array(churn_tree.classes_).astype('str').tolist(), rounded=True)\n",
    "plt.show()"
   ]
  },
  {
   "cell_type": "markdown",
   "id": "bb1ce5e1",
   "metadata": {},
   "source": [
    "### 2.Experiment with this model on other datasets with a higher number of output classes.\n"
   ]
  },
  {
   "cell_type": "code",
   "execution_count": 55,
   "id": "1b6cb842",
   "metadata": {},
   "outputs": [
    {
     "name": "stdout",
     "output_type": "stream",
     "text": [
      "Model 1 accuracy: 78.18%\n"
     ]
    }
   ],
   "source": [
    "accuracy = churn_tree.score(X_train, y_train)\n",
    "print(f'Model 1 accuracy: {accuracy:.2%}')"
   ]
  },
  {
   "cell_type": "code",
   "execution_count": null,
   "id": "484cdf87",
   "metadata": {},
   "outputs": [],
   "source": []
  }
 ],
 "metadata": {
  "kernelspec": {
   "display_name": "Python 3 (ipykernel)",
   "language": "python",
   "name": "python3"
  },
  "language_info": {
   "codemirror_mode": {
    "name": "ipython",
    "version": 3
   },
   "file_extension": ".py",
   "mimetype": "text/x-python",
   "name": "python",
   "nbconvert_exporter": "python",
   "pygments_lexer": "ipython3",
   "version": "3.11.3"
  }
 },
 "nbformat": 4,
 "nbformat_minor": 5
}
